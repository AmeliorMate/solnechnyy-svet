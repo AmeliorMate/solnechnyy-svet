{
  "nbformat": 4,
  "nbformat_minor": 0,
  "metadata": {
    "colab": {
      "name": "solnechnyy-svet data cleaning.ipynb",
      "provenance": []
    },
    "kernelspec": {
      "name": "python3",
      "display_name": "Python 3"
    }
  },
  "cells": [
    {
      "cell_type": "markdown",
      "metadata": {
        "id": "-A-eQrclZLHG",
        "colab_type": "text"
      },
      "source": [
        "[Source of IRA Tweets](https://www.kaggle.com/fivethirtyeight/russian-troll-tweets/version/1#IRAhandle_tweets_9.csv)"
      ]
    },
    {
      "cell_type": "code",
      "metadata": {
        "id": "1oPdE6eTZI9P",
        "colab_type": "code",
        "colab": {}
      },
      "source": [
        ""
      ],
      "execution_count": 0,
      "outputs": []
    }
  ]
}