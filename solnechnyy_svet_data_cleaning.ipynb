{
  "nbformat": 4,
  "nbformat_minor": 0,
  "metadata": {
    "colab": {
      "name": "test solnechnyy-svet data cleaning.ipynb",
      "provenance": [],
      "include_colab_link": true
    },
    "kernelspec": {
      "name": "python3",
      "display_name": "Python 3"
    }
  },
  "cells": [
    {
      "cell_type": "markdown",
      "metadata": {
        "id": "view-in-github",
        "colab_type": "text"
      },
      "source": [
        "<a href=\"https://colab.research.google.com/github/worldwidekatie/solnechnyy-svet/blob/master/solnechnyy_svet_data_cleaning.ipynb\" target=\"_parent\"><img src=\"https://colab.research.google.com/assets/colab-badge.svg\" alt=\"Open In Colab\"/></a>"
      ]
    },
    {
      "cell_type": "markdown",
      "metadata": {
        "id": "-A-eQrclZLHG",
        "colab_type": "text"
      },
      "source": [
        "# IRA Data Cleaning\n",
        "\n",
        "[Source of IRA Tweets](https://www.kaggle.com/fivethirtyeight/russian-troll-tweets/version/1#IRAhandle_tweets_9.csv)\n",
        "\n",
        "So I want to create a dataframe that is only the content for English tweets that are not retweets and then a column of 1's and I'll make another column of just 0's on the non-IRA and concatonate and that's how I'll differentiate later."
      ]
    },
    {
      "cell_type": "code",
      "metadata": {
        "id": "kd7rnNYHBemo",
        "colab_type": "code",
        "outputId": "b695c02b-4348-43ad-b20f-4efa4975f79b",
        "colab": {
          "base_uri": "https://localhost:8080/",
          "height": 124
        }
      },
      "source": [
        "from google.colab import drive\n",
        "drive.mount('/content/drive')"
      ],
      "execution_count": 0,
      "outputs": [
        {
          "output_type": "stream",
          "text": [
            "Go to this URL in a browser: https://accounts.google.com/o/oauth2/auth?client_id=947318989803-6bn6qk8qdgf4n4g3pfee6491hc0brc4i.apps.googleusercontent.com&redirect_uri=urn%3aietf%3awg%3aoauth%3a2.0%3aoob&response_type=code&scope=email%20https%3a%2f%2fwww.googleapis.com%2fauth%2fdocs.test%20https%3a%2f%2fwww.googleapis.com%2fauth%2fdrive%20https%3a%2f%2fwww.googleapis.com%2fauth%2fdrive.photos.readonly%20https%3a%2f%2fwww.googleapis.com%2fauth%2fpeopleapi.readonly\n",
            "\n",
            "Enter your authorization code:\n",
            "··········\n",
            "Mounted at /content/drive\n"
          ],
          "name": "stdout"
        }
      ]
    },
    {
      "cell_type": "code",
      "metadata": {
        "id": "_CbboLghBgsG",
        "colab_type": "code",
        "outputId": "118e788e-e635-4d39-a5a0-3fae5640c5ae",
        "colab": {
          "base_uri": "https://localhost:8080/",
          "height": 206
        }
      },
      "source": [
        "import pandas as pd\n",
        "#This is what I used to clean each of the nine CSV files by changing\n",
        "#The link in the read_csv nine times\n",
        "\n",
        "#Read in the CSV\n",
        "ira1 = pd.read_csv('/content/drive/My Drive/Colab Notebooks/IRA/IRAhandle_tweets_1.csv')\n",
        "\n",
        "#Slim it down to the rows I want\n",
        "ira1 = ira1[['content', 'language', 'retweet']]\n",
        "\n",
        "#Filter for English tweets\n",
        "ira1 = ira1[ira1['language'] == 'English']\n",
        "\n",
        "#Filter for non-retweets\n",
        "ira1 = ira1[ira1['retweet']==0]\n",
        "\n",
        "#Slim down to just content and retweet status\n",
        "ira1 = ira1[['content', 'retweet']]\n",
        "\n",
        "#repurpose the retweets column to say if it's ira or not\n",
        "ira1.rename(columns={'retweet':'ira'}, inplace=True)\n",
        "\n",
        "\n",
        "#Change ira column to 1's because they are ira\n",
        "ira1['ira'] = ira1['ira'] + 1\n",
        "\n",
        "ira1.head()"
      ],
      "execution_count": 0,
      "outputs": [
        {
          "output_type": "execute_result",
          "data": {
            "text/html": [
              "<div>\n",
              "<style scoped>\n",
              "    .dataframe tbody tr th:only-of-type {\n",
              "        vertical-align: middle;\n",
              "    }\n",
              "\n",
              "    .dataframe tbody tr th {\n",
              "        vertical-align: top;\n",
              "    }\n",
              "\n",
              "    .dataframe thead th {\n",
              "        text-align: right;\n",
              "    }\n",
              "</style>\n",
              "<table border=\"1\" class=\"dataframe\">\n",
              "  <thead>\n",
              "    <tr style=\"text-align: right;\">\n",
              "      <th></th>\n",
              "      <th>content</th>\n",
              "      <th>ira</th>\n",
              "    </tr>\n",
              "  </thead>\n",
              "  <tbody>\n",
              "    <tr>\n",
              "      <th>0</th>\n",
              "      <td>\"We have a sitting Democrat US Senator on tria...</td>\n",
              "      <td>1</td>\n",
              "    </tr>\n",
              "    <tr>\n",
              "      <th>1</th>\n",
              "      <td>Marshawn Lynch arrives to game in anti-Trump s...</td>\n",
              "      <td>1</td>\n",
              "    </tr>\n",
              "    <tr>\n",
              "      <th>3</th>\n",
              "      <td>JUST IN: President Trump dedicates Presidents ...</td>\n",
              "      <td>1</td>\n",
              "    </tr>\n",
              "    <tr>\n",
              "      <th>5</th>\n",
              "      <td>Dan Bongino: \"Nobody trolls liberals better th...</td>\n",
              "      <td>1</td>\n",
              "    </tr>\n",
              "    <tr>\n",
              "      <th>7</th>\n",
              "      <td>'@SenatorMenendez @CarmenYulinCruz Doesn't mat...</td>\n",
              "      <td>1</td>\n",
              "    </tr>\n",
              "  </tbody>\n",
              "</table>\n",
              "</div>"
            ],
            "text/plain": [
              "                                             content  ira\n",
              "0  \"We have a sitting Democrat US Senator on tria...    1\n",
              "1  Marshawn Lynch arrives to game in anti-Trump s...    1\n",
              "3  JUST IN: President Trump dedicates Presidents ...    1\n",
              "5  Dan Bongino: \"Nobody trolls liberals better th...    1\n",
              "7  '@SenatorMenendez @CarmenYulinCruz Doesn't mat...    1"
            ]
          },
          "metadata": {
            "tags": []
          },
          "execution_count": 27
        }
      ]
    },
    {
      "cell_type": "code",
      "metadata": {
        "id": "ylYBTvfhOB6n",
        "colab_type": "code",
        "colab": {}
      },
      "source": [
        "#Then exporting that nine times as new CSVs in my drive\n",
        "ira1.to_csv('ira1_cleaned.csv')\n",
        "!cp ira1_cleaned.csv \"drive/My Drive/\""
      ],
      "execution_count": 0,
      "outputs": []
    },
    {
      "cell_type": "code",
      "metadata": {
        "id": "6dhDn1_ZSyxz",
        "colab_type": "code",
        "outputId": "d4cad907-8906-4a52-b1ab-7963931a5dff",
        "colab": {
          "base_uri": "https://localhost:8080/",
          "height": 34
        }
      },
      "source": [
        "#I created a larga file with all the cleaned IRA CSVs\n",
        "df1 = pd.read_csv('/content/drive/My Drive/ira1_cleaned.csv')\n",
        "df2 = pd.read_csv('/content/drive/My Drive/ira2_cleaned.csv')\n",
        "df3 = pd.read_csv('/content/drive/My Drive/ira3_cleaned.csv')\n",
        "df4 = pd.read_csv('/content/drive/My Drive/ira4_cleaned.csv')\n",
        "df5 = pd.read_csv('/content/drive/My Drive/ira5_cleaned.csv')\n",
        "df6 = pd.read_csv('/content/drive/My Drive/ira6_cleaned.csv')\n",
        "df7 = pd.read_csv('/content/drive/My Drive/ira7_cleaned.csv')\n",
        "df8 = pd.read_csv('/content/drive/My Drive/ira8_cleaned.csv')\n",
        "df9 = pd.read_csv('/content/drive/My Drive/ira9_cleaned.csv')\n",
        "ira_tweets = pd.concat([df1, df2, df3, df4, df5, df6, df7, df8, df9])\n",
        "\n",
        "ira_tweets.shape"
      ],
      "execution_count": 0,
      "outputs": [
        {
          "output_type": "execute_result",
          "data": {
            "text/plain": [
              "(1272848, 3)"
            ]
          },
          "metadata": {
            "tags": []
          },
          "execution_count": 32
        }
      ]
    },
    {
      "cell_type": "code",
      "metadata": {
        "id": "qZGvtkl4X97g",
        "colab_type": "code",
        "colab": {}
      },
      "source": [
        "#And exported the final as a new csv to my drive\n",
        "ira1.to_csv('ira_tweets_cleaned.csv')\n",
        "!cp ira_tweets_cleaned.csv \"drive/My Drive/\""
      ],
      "execution_count": 0,
      "outputs": []
    },
    {
      "cell_type": "markdown",
      "metadata": {
        "id": "tBPtrwFab3MU",
        "colab_type": "text"
      },
      "source": [
        "#Non-IRA data cleaning\n",
        "\n",
        "###[First Source of non-IRA tweets](https://www.kaggle.com/kazanova/sentiment140), a Kaggle tweet database for sentiment analysis"
      ]
    },
    {
      "cell_type": "code",
      "metadata": {
        "id": "fqqJGDjmZ51s",
        "colab_type": "code",
        "outputId": "83ab6acf-e4cc-41f1-bba8-e9907c47132a",
        "colab": {
          "base_uri": "https://localhost:8080/",
          "height": 293
        }
      },
      "source": [
        "import pandas as pd\n",
        "df = pd.read_csv('/content/drive/My Drive/Non-IRA To Clean/non_ira1.csv', encoding='latin-1', \n",
        "                 names=['target', 'ids', 'date', 'flag', 'user', 'text'])\n",
        "df.head()"
      ],
      "execution_count": 0,
      "outputs": [
        {
          "output_type": "execute_result",
          "data": {
            "text/html": [
              "<div>\n",
              "<style scoped>\n",
              "    .dataframe tbody tr th:only-of-type {\n",
              "        vertical-align: middle;\n",
              "    }\n",
              "\n",
              "    .dataframe tbody tr th {\n",
              "        vertical-align: top;\n",
              "    }\n",
              "\n",
              "    .dataframe thead th {\n",
              "        text-align: right;\n",
              "    }\n",
              "</style>\n",
              "<table border=\"1\" class=\"dataframe\">\n",
              "  <thead>\n",
              "    <tr style=\"text-align: right;\">\n",
              "      <th></th>\n",
              "      <th>target</th>\n",
              "      <th>ids</th>\n",
              "      <th>date</th>\n",
              "      <th>flag</th>\n",
              "      <th>user</th>\n",
              "      <th>text</th>\n",
              "    </tr>\n",
              "  </thead>\n",
              "  <tbody>\n",
              "    <tr>\n",
              "      <th>0</th>\n",
              "      <td>0</td>\n",
              "      <td>1467810369</td>\n",
              "      <td>Mon Apr 06 22:19:45 PDT 2009</td>\n",
              "      <td>NO_QUERY</td>\n",
              "      <td>_TheSpecialOne_</td>\n",
              "      <td>@switchfoot http://twitpic.com/2y1zl - Awww, t...</td>\n",
              "    </tr>\n",
              "    <tr>\n",
              "      <th>1</th>\n",
              "      <td>0</td>\n",
              "      <td>1467810672</td>\n",
              "      <td>Mon Apr 06 22:19:49 PDT 2009</td>\n",
              "      <td>NO_QUERY</td>\n",
              "      <td>scotthamilton</td>\n",
              "      <td>is upset that he can't update his Facebook by ...</td>\n",
              "    </tr>\n",
              "    <tr>\n",
              "      <th>2</th>\n",
              "      <td>0</td>\n",
              "      <td>1467810917</td>\n",
              "      <td>Mon Apr 06 22:19:53 PDT 2009</td>\n",
              "      <td>NO_QUERY</td>\n",
              "      <td>mattycus</td>\n",
              "      <td>@Kenichan I dived many times for the ball. Man...</td>\n",
              "    </tr>\n",
              "    <tr>\n",
              "      <th>3</th>\n",
              "      <td>0</td>\n",
              "      <td>1467811184</td>\n",
              "      <td>Mon Apr 06 22:19:57 PDT 2009</td>\n",
              "      <td>NO_QUERY</td>\n",
              "      <td>ElleCTF</td>\n",
              "      <td>my whole body feels itchy and like its on fire</td>\n",
              "    </tr>\n",
              "    <tr>\n",
              "      <th>4</th>\n",
              "      <td>0</td>\n",
              "      <td>1467811193</td>\n",
              "      <td>Mon Apr 06 22:19:57 PDT 2009</td>\n",
              "      <td>NO_QUERY</td>\n",
              "      <td>Karoli</td>\n",
              "      <td>@nationwideclass no, it's not behaving at all....</td>\n",
              "    </tr>\n",
              "  </tbody>\n",
              "</table>\n",
              "</div>"
            ],
            "text/plain": [
              "   target  ...                                               text\n",
              "0       0  ...  @switchfoot http://twitpic.com/2y1zl - Awww, t...\n",
              "1       0  ...  is upset that he can't update his Facebook by ...\n",
              "2       0  ...  @Kenichan I dived many times for the ball. Man...\n",
              "3       0  ...    my whole body feels itchy and like its on fire \n",
              "4       0  ...  @nationwideclass no, it's not behaving at all....\n",
              "\n",
              "[5 rows x 6 columns]"
            ]
          },
          "metadata": {
            "tags": []
          },
          "execution_count": 77
        }
      ]
    },
    {
      "cell_type": "code",
      "metadata": {
        "id": "mQVqeoI-chKN",
        "colab_type": "code",
        "outputId": "7f440209-72d8-44c1-8ccc-bb6434423413",
        "colab": {
          "base_uri": "https://localhost:8080/",
          "height": 206
        }
      },
      "source": [
        "df = df[['text', 'target']]\n",
        "df.head()"
      ],
      "execution_count": 0,
      "outputs": [
        {
          "output_type": "execute_result",
          "data": {
            "text/html": [
              "<div>\n",
              "<style scoped>\n",
              "    .dataframe tbody tr th:only-of-type {\n",
              "        vertical-align: middle;\n",
              "    }\n",
              "\n",
              "    .dataframe tbody tr th {\n",
              "        vertical-align: top;\n",
              "    }\n",
              "\n",
              "    .dataframe thead th {\n",
              "        text-align: right;\n",
              "    }\n",
              "</style>\n",
              "<table border=\"1\" class=\"dataframe\">\n",
              "  <thead>\n",
              "    <tr style=\"text-align: right;\">\n",
              "      <th></th>\n",
              "      <th>text</th>\n",
              "      <th>target</th>\n",
              "    </tr>\n",
              "  </thead>\n",
              "  <tbody>\n",
              "    <tr>\n",
              "      <th>0</th>\n",
              "      <td>@switchfoot http://twitpic.com/2y1zl - Awww, t...</td>\n",
              "      <td>0</td>\n",
              "    </tr>\n",
              "    <tr>\n",
              "      <th>1</th>\n",
              "      <td>is upset that he can't update his Facebook by ...</td>\n",
              "      <td>0</td>\n",
              "    </tr>\n",
              "    <tr>\n",
              "      <th>2</th>\n",
              "      <td>@Kenichan I dived many times for the ball. Man...</td>\n",
              "      <td>0</td>\n",
              "    </tr>\n",
              "    <tr>\n",
              "      <th>3</th>\n",
              "      <td>my whole body feels itchy and like its on fire</td>\n",
              "      <td>0</td>\n",
              "    </tr>\n",
              "    <tr>\n",
              "      <th>4</th>\n",
              "      <td>@nationwideclass no, it's not behaving at all....</td>\n",
              "      <td>0</td>\n",
              "    </tr>\n",
              "  </tbody>\n",
              "</table>\n",
              "</div>"
            ],
            "text/plain": [
              "                                                text  target\n",
              "0  @switchfoot http://twitpic.com/2y1zl - Awww, t...       0\n",
              "1  is upset that he can't update his Facebook by ...       0\n",
              "2  @Kenichan I dived many times for the ball. Man...       0\n",
              "3    my whole body feels itchy and like its on fire        0\n",
              "4  @nationwideclass no, it's not behaving at all....       0"
            ]
          },
          "metadata": {
            "tags": []
          },
          "execution_count": 78
        }
      ]
    },
    {
      "cell_type": "code",
      "metadata": {
        "id": "2xLctRhtgr0H",
        "colab_type": "code",
        "outputId": "de41b50d-9fac-4427-ac4b-90555185deb0",
        "colab": {
          "base_uri": "https://localhost:8080/",
          "height": 69
        }
      },
      "source": [
        "df['target'].value_counts()"
      ],
      "execution_count": 0,
      "outputs": [
        {
          "output_type": "execute_result",
          "data": {
            "text/plain": [
              "4    800000\n",
              "0    800000\n",
              "Name: target, dtype: int64"
            ]
          },
          "metadata": {
            "tags": []
          },
          "execution_count": 67
        }
      ]
    },
    {
      "cell_type": "code",
      "metadata": {
        "id": "qzbNPz6lgwqq",
        "colab_type": "code",
        "outputId": "ecaf99fc-6910-44e8-cb79-4deb5fb3f424",
        "colab": {
          "base_uri": "https://localhost:8080/",
          "height": 52
        }
      },
      "source": [
        "df['target'] = df['target'].replace({4:0})\n",
        "\n",
        "df['target'].value_counts()"
      ],
      "execution_count": 0,
      "outputs": [
        {
          "output_type": "execute_result",
          "data": {
            "text/plain": [
              "0    1600000\n",
              "Name: target, dtype: int64"
            ]
          },
          "metadata": {
            "tags": []
          },
          "execution_count": 68
        }
      ]
    },
    {
      "cell_type": "code",
      "metadata": {
        "id": "fzm_uggMhgN8",
        "colab_type": "code",
        "outputId": "fb571138-0ce0-42b5-88e3-30455bd5883c",
        "colab": {
          "base_uri": "https://localhost:8080/",
          "height": 206
        }
      },
      "source": [
        "df.rename(columns={'text':'content', 'target': 'ira'}, inplace=True)\n",
        "\n",
        "df.head()"
      ],
      "execution_count": 0,
      "outputs": [
        {
          "output_type": "execute_result",
          "data": {
            "text/html": [
              "<div>\n",
              "<style scoped>\n",
              "    .dataframe tbody tr th:only-of-type {\n",
              "        vertical-align: middle;\n",
              "    }\n",
              "\n",
              "    .dataframe tbody tr th {\n",
              "        vertical-align: top;\n",
              "    }\n",
              "\n",
              "    .dataframe thead th {\n",
              "        text-align: right;\n",
              "    }\n",
              "</style>\n",
              "<table border=\"1\" class=\"dataframe\">\n",
              "  <thead>\n",
              "    <tr style=\"text-align: right;\">\n",
              "      <th></th>\n",
              "      <th>content</th>\n",
              "      <th>ira</th>\n",
              "    </tr>\n",
              "  </thead>\n",
              "  <tbody>\n",
              "    <tr>\n",
              "      <th>0</th>\n",
              "      <td>@switchfoot http://twitpic.com/2y1zl - Awww, t...</td>\n",
              "      <td>0</td>\n",
              "    </tr>\n",
              "    <tr>\n",
              "      <th>1</th>\n",
              "      <td>is upset that he can't update his Facebook by ...</td>\n",
              "      <td>0</td>\n",
              "    </tr>\n",
              "    <tr>\n",
              "      <th>2</th>\n",
              "      <td>@Kenichan I dived many times for the ball. Man...</td>\n",
              "      <td>0</td>\n",
              "    </tr>\n",
              "    <tr>\n",
              "      <th>3</th>\n",
              "      <td>my whole body feels itchy and like its on fire</td>\n",
              "      <td>0</td>\n",
              "    </tr>\n",
              "    <tr>\n",
              "      <th>4</th>\n",
              "      <td>@nationwideclass no, it's not behaving at all....</td>\n",
              "      <td>0</td>\n",
              "    </tr>\n",
              "  </tbody>\n",
              "</table>\n",
              "</div>"
            ],
            "text/plain": [
              "                                             content  ira\n",
              "0  @switchfoot http://twitpic.com/2y1zl - Awww, t...    0\n",
              "1  is upset that he can't update his Facebook by ...    0\n",
              "2  @Kenichan I dived many times for the ball. Man...    0\n",
              "3    my whole body feels itchy and like its on fire     0\n",
              "4  @nationwideclass no, it's not behaving at all....    0"
            ]
          },
          "metadata": {
            "tags": []
          },
          "execution_count": 69
        }
      ]
    },
    {
      "cell_type": "markdown",
      "metadata": {
        "id": "JwAuNvRYh-VP",
        "colab_type": "text"
      },
      "source": [
        "#Add them together to test"
      ]
    },
    {
      "cell_type": "code",
      "metadata": {
        "id": "nNsOHToahzFC",
        "colab_type": "code",
        "outputId": "869f9230-9ae9-4830-a0fe-4148a6995b90",
        "colab": {
          "base_uri": "https://localhost:8080/",
          "height": 69
        }
      },
      "source": [
        "test_df = pd.concat([df, ira_tweets], sort=False)\n",
        "\n",
        "test_df.shape\n",
        "\n",
        "test_df['ira'].value_counts()"
      ],
      "execution_count": 0,
      "outputs": [
        {
          "output_type": "execute_result",
          "data": {
            "text/plain": [
              "0    1600000\n",
              "1    1272848\n",
              "Name: ira, dtype: int64"
            ]
          },
          "metadata": {
            "tags": []
          },
          "execution_count": 74
        }
      ]
    },
    {
      "cell_type": "code",
      "metadata": {
        "id": "fPjau_j6iKpa",
        "colab_type": "code",
        "colab": {}
      },
      "source": [
        "#Exported the test dataset as a new csv to my drive\n",
        "ira1.to_csv('test_df4.csv')\n",
        "!cp test_df4.csv \"drive/My Drive/\""
      ],
      "execution_count": 0,
      "outputs": []
    },
    {
      "cell_type": "code",
      "metadata": {
        "id": "rywuoGTBiU_q",
        "colab_type": "code",
        "outputId": "78867f25-71a0-4ad6-ede1-3c896d9c0cda",
        "colab": {
          "base_uri": "https://localhost:8080/",
          "height": 206
        }
      },
      "source": [
        "#Here I got frustrated it kept changing everything to ones so I tried making\n",
        "#them 2's instead of zero's but still they changed to ones.\n",
        "\n",
        "#I'll have to figure that out eventually.\n",
        "df.head()\n",
        "\n",
        "df['target'] = df['target'].replace({0:2})\n",
        "\n",
        "df.head()"
      ],
      "execution_count": 0,
      "outputs": [
        {
          "output_type": "execute_result",
          "data": {
            "text/html": [
              "<div>\n",
              "<style scoped>\n",
              "    .dataframe tbody tr th:only-of-type {\n",
              "        vertical-align: middle;\n",
              "    }\n",
              "\n",
              "    .dataframe tbody tr th {\n",
              "        vertical-align: top;\n",
              "    }\n",
              "\n",
              "    .dataframe thead th {\n",
              "        text-align: right;\n",
              "    }\n",
              "</style>\n",
              "<table border=\"1\" class=\"dataframe\">\n",
              "  <thead>\n",
              "    <tr style=\"text-align: right;\">\n",
              "      <th></th>\n",
              "      <th>text</th>\n",
              "      <th>target</th>\n",
              "    </tr>\n",
              "  </thead>\n",
              "  <tbody>\n",
              "    <tr>\n",
              "      <th>0</th>\n",
              "      <td>@switchfoot http://twitpic.com/2y1zl - Awww, t...</td>\n",
              "      <td>2</td>\n",
              "    </tr>\n",
              "    <tr>\n",
              "      <th>1</th>\n",
              "      <td>is upset that he can't update his Facebook by ...</td>\n",
              "      <td>2</td>\n",
              "    </tr>\n",
              "    <tr>\n",
              "      <th>2</th>\n",
              "      <td>@Kenichan I dived many times for the ball. Man...</td>\n",
              "      <td>2</td>\n",
              "    </tr>\n",
              "    <tr>\n",
              "      <th>3</th>\n",
              "      <td>my whole body feels itchy and like its on fire</td>\n",
              "      <td>2</td>\n",
              "    </tr>\n",
              "    <tr>\n",
              "      <th>4</th>\n",
              "      <td>@nationwideclass no, it's not behaving at all....</td>\n",
              "      <td>2</td>\n",
              "    </tr>\n",
              "  </tbody>\n",
              "</table>\n",
              "</div>"
            ],
            "text/plain": [
              "                                                text  target\n",
              "0  @switchfoot http://twitpic.com/2y1zl - Awww, t...       2\n",
              "1  is upset that he can't update his Facebook by ...       2\n",
              "2  @Kenichan I dived many times for the ball. Man...       2\n",
              "3    my whole body feels itchy and like its on fire        2\n",
              "4  @nationwideclass no, it's not behaving at all....       2"
            ]
          },
          "metadata": {
            "tags": []
          },
          "execution_count": 80
        }
      ]
    },
    {
      "cell_type": "code",
      "metadata": {
        "id": "w6nqfP52sgJ-",
        "colab_type": "code",
        "colab": {}
      },
      "source": [
        ""
      ],
      "execution_count": 0,
      "outputs": []
    }
  ]
}