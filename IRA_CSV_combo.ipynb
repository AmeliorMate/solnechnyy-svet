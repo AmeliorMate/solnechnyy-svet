{
  "nbformat": 4,
  "nbformat_minor": 0,
  "metadata": {
    "colab": {
      "name": "IRA_CSV_combo.ipynb",
      "provenance": [],
      "authorship_tag": "ABX9TyNsIhTgfWvnlJYg+1qv0abV",
      "include_colab_link": true
    },
    "kernelspec": {
      "name": "python3",
      "display_name": "Python 3"
    }
  },
  "cells": [
    {
      "cell_type": "markdown",
      "metadata": {
        "id": "view-in-github",
        "colab_type": "text"
      },
      "source": [
        "<a href=\"https://colab.research.google.com/github/worldwidekatie/solnechnyy-svet/blob/master/IRA_CSV_combo.ipynb\" target=\"_parent\"><img src=\"https://colab.research.google.com/assets/colab-badge.svg\" alt=\"Open In Colab\"/></a>"
      ]
    },
    {
      "cell_type": "markdown",
      "metadata": {
        "id": "B6chmG-vlZOB",
        "colab_type": "text"
      },
      "source": [
        "#Build Week Two NLP Notebook\n",
        "##Can we predict if a tweet came from Russian trolls or not purely based on writing style and keywords?"
      ]
    },
    {
      "cell_type": "markdown",
      "metadata": {
        "id": "JpEXFEFalSTw",
        "colab_type": "text"
      },
      "source": [
        "For my target dataset I am using a dataset of over 3 million Russian troll tweets from fivethirtyeight.\n",
        "\n",
        "Dataset: [Three Million Troll Tweets](https://www.kaggle.com/fivethirtyeight/russian-troll-tweets/version/1)\n",
        "\n",
        "Header | Definition\n",
        "---|---------\n",
        "`external_author_id` | An author account ID from Twitter \n",
        "`author` | The handle sending the tweet\n",
        "`content` | The text of the tweet\n",
        "`region` | A region classification, as [determined by Social Studio](https://help.salesforce.com/articleView?   id=000199367&type=1)\n",
        "`language` | The language of the tweet\n",
        "`publish_date` | The date and time the tweet was sent\n",
        "`harvested_date` | The date and time the tweet was collected by Social Studio\n",
        "`following` | The number of accounts the handle was following at the time of the tweet\n",
        "`followers` | The number of followers the handle had at the time of the tweet\n",
        "`updates` | The number of “update actions” on the account that authored the tweet, including tweets, retweets and likes\n",
        "`post_type` | Indicates if the tweet was a retweet or a quote-tweet\n",
        "`account_type` | Specific account theme, as coded by Linvill and Warren\n",
        "`retweet` | A binary indicator of whether or not the tweet is a retweet\n",
        "`account_category` | General account theme, as coded by Linvill and Warren\n",
        "`new_june_2018` | A binary indicator of whether the handle was newly listed in June 2018"
      ]
    },
    {
      "cell_type": "markdown",
      "metadata": {
        "id": "Fq0lgNvynFZp",
        "colab_type": "text"
      },
      "source": [
        "[Non-IRA tweets](https://www.kaggle.com/kazanova/sentiment140), accessed via a Kaggle database for sentiment analysis\n",
        "\n",
        "Dataset citation: Go, A., Bhayani, R. and Huang, L., 2009. Twitter sentiment classification using distant supervision. CS224N Project Report, Stanford, 1(2009), p.12.\n",
        "\n",
        "target: the polarity of the tweet (0 = negative, 2 = neutral, 4 = positive)\n",
        "\n",
        "ids: The id of the tweet ( 2087)\n",
        "\n",
        "date: the date of the tweet (Sat May 16 23:58:44 UTC 2009)\n",
        "\n",
        "flag: The query (lyx). If there is no query, then this value is NO_QUERY.\n",
        "\n",
        "user: the user that tweeted (robotickilldozr)\n",
        "\n",
        "text: the text of the tweet (Lyx is cool)"
      ]
    },
    {
      "cell_type": "markdown",
      "metadata": {
        "id": "wfoKbm0ioHql",
        "colab_type": "text"
      },
      "source": [
        "### I'll begin by creating an IRA dataset of English-language, non-retweets"
      ]
    },
    {
      "cell_type": "code",
      "metadata": {
        "id": "qQJoz7h7lIaK",
        "colab_type": "code",
        "outputId": "d536290a-cde2-40a8-a9da-b4e6fcb1ab57",
        "colab": {
          "base_uri": "https://localhost:8080/",
          "height": 34
        }
      },
      "source": [
        "from google.colab import drive\n",
        "drive.mount('/content/drive')"
      ],
      "execution_count": 0,
      "outputs": [
        {
          "output_type": "stream",
          "text": [
            "Drive already mounted at /content/drive; to attempt to forcibly remount, call drive.mount(\"/content/drive\", force_remount=True).\n"
          ],
          "name": "stdout"
        }
      ]
    },
    {
      "cell_type": "code",
      "metadata": {
        "id": "BU_2wMQYoXvj",
        "colab_type": "code",
        "colab": {}
      },
      "source": [
        "import pandas as pd"
      ],
      "execution_count": 0,
      "outputs": []
    },
    {
      "cell_type": "markdown",
      "metadata": {
        "id": "wN7nG0eqob0t",
        "colab_type": "text"
      },
      "source": [
        "CSV 1"
      ]
    },
    {
      "cell_type": "code",
      "metadata": {
        "id": "HvVZH-ihobFS",
        "colab_type": "code",
        "outputId": "2e863022-5966-400d-8117-9da195032890",
        "colab": {
          "base_uri": "https://localhost:8080/",
          "height": 34
        }
      },
      "source": [
        "ira1 = pd.read_csv('/content/drive/My Drive/IRA/IRAhandle_tweets_1.csv')\n",
        "\n",
        "#Filter for English tweets\n",
        "ira1 = ira1[ira1['language'] == 'English']\n",
        "\n",
        "#Filter for non-retweets\n",
        "ira1 = ira1[ira1['retweet']==0]\n",
        "\n",
        "#Then exporting that as new CSVs in my drive\n",
        "ira1.to_csv('ira1_cleaned.csv')\n",
        "!cp ira1_cleaned.csv \"drive/My Drive/\"\n",
        "df.shape"
      ],
      "execution_count": 0,
      "outputs": [
        {
          "output_type": "execute_result",
          "data": {
            "text/plain": [
              "(196271, 15)"
            ]
          },
          "metadata": {
            "tags": []
          },
          "execution_count": 7
        }
      ]
    },
    {
      "cell_type": "markdown",
      "metadata": {
        "id": "a0FnHQSpo6R_",
        "colab_type": "text"
      },
      "source": [
        "CSV 2"
      ]
    },
    {
      "cell_type": "code",
      "metadata": {
        "id": "e7m6J8jAo40C",
        "colab_type": "code",
        "outputId": "d945dc59-15a0-4c2e-cb6c-4f7a3be4b877",
        "colab": {
          "base_uri": "https://localhost:8080/",
          "height": 34
        }
      },
      "source": [
        "df = pd.read_csv('/content/drive/My Drive/IRA/IRAhandle_tweets_2.csv')\n",
        "\n",
        "#Filter for English tweets\n",
        "df = df[df['language'] == 'English']\n",
        "\n",
        "#Filter for non-retweets\n",
        "df = df[df['retweet']==0]\n",
        "\n",
        "#Then exporting that as new CSVs in my drive\n",
        "df.to_csv('ira2_cleaned.csv')\n",
        "!cp ira2_cleaned.csv \"drive/My Drive/\"\n",
        "df.shape"
      ],
      "execution_count": 0,
      "outputs": [
        {
          "output_type": "execute_result",
          "data": {
            "text/plain": [
              "(196271, 15)"
            ]
          },
          "metadata": {
            "tags": []
          },
          "execution_count": 6
        }
      ]
    },
    {
      "cell_type": "markdown",
      "metadata": {
        "id": "PFT-KpLAqp2e",
        "colab_type": "text"
      },
      "source": [
        "CSV 3"
      ]
    },
    {
      "cell_type": "code",
      "metadata": {
        "id": "YcpTaCl3orsQ",
        "colab_type": "code",
        "outputId": "8151a307-f289-472a-8d12-e1a862ff9910",
        "colab": {
          "base_uri": "https://localhost:8080/",
          "height": 34
        }
      },
      "source": [
        "df = pd.read_csv('/content/drive/My Drive/IRA/IRAhandle_tweets_3.csv')\n",
        "\n",
        "#Filter for English tweets\n",
        "df = df[df['language'] == 'English']\n",
        "\n",
        "#Filter for non-retweets\n",
        "df = df[df['retweet']==0]\n",
        "\n",
        "#Then exporting that as new CSVs in my drive\n",
        "df.to_csv('ira3_cleaned.csv')\n",
        "!cp ira3_cleaned.csv \"drive/My Drive/\"\n",
        "df.shape"
      ],
      "execution_count": 0,
      "outputs": [
        {
          "output_type": "execute_result",
          "data": {
            "text/plain": [
              "(204900, 15)"
            ]
          },
          "metadata": {
            "tags": []
          },
          "execution_count": 8
        }
      ]
    },
    {
      "cell_type": "markdown",
      "metadata": {
        "id": "8H-d2ykDqw6H",
        "colab_type": "text"
      },
      "source": [
        "CSV 4"
      ]
    },
    {
      "cell_type": "code",
      "metadata": {
        "id": "p9RcYZbrqyLe",
        "colab_type": "code",
        "outputId": "19bd9819-d170-46dc-a600-c83bddedce55",
        "colab": {
          "base_uri": "https://localhost:8080/",
          "height": 34
        }
      },
      "source": [
        "df = pd.read_csv('/content/drive/My Drive/IRA/IRAhandle_tweets_4.csv')\n",
        "\n",
        "#Filter for English tweets\n",
        "df = df[df['language'] == 'English']\n",
        "\n",
        "#Filter for non-retweets\n",
        "df = df[df['retweet']==0]\n",
        "\n",
        "#Then exporting that as new CSVs in my drive\n",
        "df.to_csv('ira4_cleaned.csv')\n",
        "!cp ira4_cleaned.csv \"drive/My Drive/\"\n",
        "df.shape"
      ],
      "execution_count": 0,
      "outputs": [
        {
          "output_type": "execute_result",
          "data": {
            "text/plain": [
              "(113195, 15)"
            ]
          },
          "metadata": {
            "tags": []
          },
          "execution_count": 9
        }
      ]
    },
    {
      "cell_type": "markdown",
      "metadata": {
        "id": "2OHJkQ40q23n",
        "colab_type": "text"
      },
      "source": [
        "CSV 5"
      ]
    },
    {
      "cell_type": "code",
      "metadata": {
        "id": "TuNFD1_Eq2QB",
        "colab_type": "code",
        "outputId": "5e859b5d-a474-444f-9e46-98798cf42b31",
        "colab": {
          "base_uri": "https://localhost:8080/",
          "height": 34
        }
      },
      "source": [
        "df = pd.read_csv('/content/drive/My Drive/IRA/IRAhandle_tweets_5.csv')\n",
        "\n",
        "#Filter for English tweets\n",
        "df = df[df['language'] == 'English']\n",
        "\n",
        "#Filter for non-retweets\n",
        "df = df[df['retweet']==0]\n",
        "\n",
        "#Then exporting that as new CSVs in my drive\n",
        "df.to_csv('ira5_cleaned.csv')\n",
        "!cp ira5_cleaned.csv \"drive/My Drive/\"\n",
        "df.shape"
      ],
      "execution_count": 0,
      "outputs": [
        {
          "output_type": "execute_result",
          "data": {
            "text/plain": [
              "(75240, 15)"
            ]
          },
          "metadata": {
            "tags": []
          },
          "execution_count": 10
        }
      ]
    },
    {
      "cell_type": "markdown",
      "metadata": {
        "id": "zOBAnXynrRc3",
        "colab_type": "text"
      },
      "source": [
        "CSV 6"
      ]
    },
    {
      "cell_type": "code",
      "metadata": {
        "id": "uwyabfyArS4u",
        "colab_type": "code",
        "outputId": "44bec2a5-bf68-4def-c814-2f08e464c935",
        "colab": {
          "base_uri": "https://localhost:8080/",
          "height": 34
        }
      },
      "source": [
        "df = pd.read_csv('/content/drive/My Drive/IRA/IRAhandle_tweets_6.csv')\n",
        "\n",
        "#Filter for English tweets\n",
        "df = df[df['language'] == 'English']\n",
        "\n",
        "#Filter for non-retweets\n",
        "df = df[df['retweet']==0]\n",
        "\n",
        "#Then exporting that as new CSVs in my drive\n",
        "df.to_csv('ira6_cleaned.csv')\n",
        "!cp ira6_cleaned.csv \"drive/My Drive/\"\n",
        "df.shape"
      ],
      "execution_count": 0,
      "outputs": [
        {
          "output_type": "execute_result",
          "data": {
            "text/plain": [
              "(126287, 15)"
            ]
          },
          "metadata": {
            "tags": []
          },
          "execution_count": 11
        }
      ]
    },
    {
      "cell_type": "markdown",
      "metadata": {
        "id": "zHTmU1G2rV-Y",
        "colab_type": "text"
      },
      "source": [
        "CSV 7"
      ]
    },
    {
      "cell_type": "code",
      "metadata": {
        "id": "3qnOF-QqrX9A",
        "colab_type": "code",
        "outputId": "843329e8-b4bb-46b9-cf57-c2a774892c22",
        "colab": {
          "base_uri": "https://localhost:8080/",
          "height": 34
        }
      },
      "source": [
        "df = pd.read_csv('/content/drive/My Drive/IRA/IRAhandle_tweets_7.csv')\n",
        "\n",
        "#Filter for English tweets\n",
        "df = df[df['language'] == 'English']\n",
        "\n",
        "#Filter for non-retweets\n",
        "df = df[df['retweet']==0]\n",
        "\n",
        "#Then exporting that as new CSVs in my drive\n",
        "df.to_csv('ira7_cleaned.csv')\n",
        "!cp ira7_cleaned.csv \"drive/My Drive/\"\n",
        "df.shape"
      ],
      "execution_count": 0,
      "outputs": [
        {
          "output_type": "execute_result",
          "data": {
            "text/plain": [
              "(180503, 15)"
            ]
          },
          "metadata": {
            "tags": []
          },
          "execution_count": 12
        }
      ]
    },
    {
      "cell_type": "markdown",
      "metadata": {
        "id": "-eavKaDcrdiw",
        "colab_type": "text"
      },
      "source": [
        "CSV 8"
      ]
    },
    {
      "cell_type": "code",
      "metadata": {
        "id": "Rf0OCxNnrcsI",
        "colab_type": "code",
        "outputId": "f7b5697e-9918-43f5-c9c7-9d303d4fc1f8",
        "colab": {
          "base_uri": "https://localhost:8080/",
          "height": 34
        }
      },
      "source": [
        "df = pd.read_csv('/content/drive/My Drive/IRA/IRAhandle_tweets_8.csv')\n",
        "\n",
        "#Filter for English tweets\n",
        "df = df[df['language'] == 'English']\n",
        "\n",
        "#Filter for non-retweets\n",
        "df = df[df['retweet']==0]\n",
        "\n",
        "#Then exporting that as new CSVs in my drive\n",
        "df.to_csv('ira8_cleaned.csv')\n",
        "!cp ira8_cleaned.csv \"drive/My Drive/\"\n",
        "df.shape"
      ],
      "execution_count": 0,
      "outputs": [
        {
          "output_type": "execute_result",
          "data": {
            "text/plain": [
              "(219958, 15)"
            ]
          },
          "metadata": {
            "tags": []
          },
          "execution_count": 13
        }
      ]
    },
    {
      "cell_type": "markdown",
      "metadata": {
        "id": "rJPiUTHNriW3",
        "colab_type": "text"
      },
      "source": [
        "CSV 9"
      ]
    },
    {
      "cell_type": "code",
      "metadata": {
        "id": "k9uuRCDIrkuW",
        "colab_type": "code",
        "outputId": "7b88adbf-dcac-417d-ef50-081554735e55",
        "colab": {
          "base_uri": "https://localhost:8080/",
          "height": 34
        }
      },
      "source": [
        "df = pd.read_csv('/content/drive/My Drive/IRA/IRAhandle_tweets_9.csv')\n",
        "\n",
        "#Filter for English tweets\n",
        "df = df[df['language'] == 'English']\n",
        "\n",
        "#Filter for non-retweets\n",
        "df = df[df['retweet']==0]\n",
        "\n",
        "#Then exporting that as new CSVs in my drive\n",
        "df.to_csv('ira9_cleaned.csv')\n",
        "!cp ira9_cleaned.csv \"drive/My Drive/\"\n",
        "df.shape"
      ],
      "execution_count": 0,
      "outputs": [
        {
          "output_type": "execute_result",
          "data": {
            "text/plain": [
              "(2217, 15)"
            ]
          },
          "metadata": {
            "tags": []
          },
          "execution_count": 14
        }
      ]
    },
    {
      "cell_type": "code",
      "metadata": {
        "id": "uOb-amx9sGg6",
        "colab_type": "code",
        "outputId": "18d59669-f9a4-46c0-948a-79b97093fe02",
        "colab": {
          "base_uri": "https://localhost:8080/",
          "height": 34
        }
      },
      "source": [
        "#I created a larga file with all the cleaned IRA CSVs\n",
        "df1 = pd.read_csv('/content/drive/My Drive/ira1_cleaned.csv')\n",
        "df2 = pd.read_csv('/content/drive/My Drive/ira2_cleaned.csv')\n",
        "df3 = pd.read_csv('/content/drive/My Drive/ira3_cleaned.csv')\n",
        "df4 = pd.read_csv('/content/drive/My Drive/ira4_cleaned.csv')\n",
        "df5 = pd.read_csv('/content/drive/My Drive/ira5_cleaned.csv')\n",
        "df6 = pd.read_csv('/content/drive/My Drive/ira6_cleaned.csv')\n",
        "df7 = pd.read_csv('/content/drive/My Drive/ira7_cleaned.csv')\n",
        "df8 = pd.read_csv('/content/drive/My Drive/ira8_cleaned.csv')\n",
        "df9 = pd.read_csv('/content/drive/My Drive/ira9_cleaned.csv')\n",
        "ira_tweets = pd.concat([df1, df2, df3, df4, df5, df6, df7, df8, df9])\n",
        "\n",
        "ira_tweets.shape"
      ],
      "execution_count": 0,
      "outputs": [
        {
          "output_type": "execute_result",
          "data": {
            "text/plain": [
              "(1272848, 16)"
            ]
          },
          "metadata": {
            "tags": []
          },
          "execution_count": 15
        }
      ]
    },
    {
      "cell_type": "code",
      "metadata": {
        "id": "_AYJQ_P6sR_k",
        "colab_type": "code",
        "colab": {}
      },
      "source": [
        "#And exported the final as a new csv to my drive\n",
        "ira1.to_csv('ira_tweets_cleaned.csv')\n",
        "!cp ira_tweets_cleaned.csv \"drive/My Drive/\""
      ],
      "execution_count": 0,
      "outputs": []
    }
  ]
}