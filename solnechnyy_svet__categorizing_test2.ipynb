{
  "nbformat": 4,
  "nbformat_minor": 0,
  "metadata": {
    "colab": {
      "name": "solnechnyy_svet _categorizing_test2.ipynb",
      "provenance": [],
      "authorship_tag": "ABX9TyO8nbmS51oB0W2xaR/f4UzA",
      "include_colab_link": true
    },
    "kernelspec": {
      "name": "python3",
      "display_name": "Python 3"
    }
  },
  "cells": [
    {
      "cell_type": "markdown",
      "metadata": {
        "id": "view-in-github",
        "colab_type": "text"
      },
      "source": [
        "<a href=\"https://colab.research.google.com/github/worldwidekatie/solnechnyy-svet/blob/master/solnechnyy_svet__categorizing_test2.ipynb\" target=\"_parent\"><img src=\"https://colab.research.google.com/assets/colab-badge.svg\" alt=\"Open In Colab\"/></a>"
      ]
    },
    {
      "cell_type": "code",
      "metadata": {
        "id": "aa7oDTbi3GMZ",
        "colab_type": "code",
        "colab": {}
      },
      "source": [
        "import pandas as pd\n",
        "from sklearn.model_selection import train_test_split\n",
        "import numpy as np\n",
        "import sklearn as sk\n",
        "from sklearn.pipeline import make_pipeline\n",
        "from sklearn.model_selection import RandomizedSearchCV\n",
        "from scipy.stats import randint, uniform\n",
        "from sklearn.metrics import accuracy_score\n",
        "from sklearn.metrics import confusion_matrix\n",
        "from sklearn.feature_extraction.text import TfidfVectorizer\n",
        "from sklearn.linear_model import PassiveAggressiveClassifier\n",
        "from sklearn.feature_selection import SelectPercentile, f_classif"
      ],
      "execution_count": 0,
      "outputs": []
    },
    {
      "cell_type": "code",
      "metadata": {
        "id": "JkVceIZ_24Go",
        "colab_type": "code",
        "colab": {
          "base_uri": "https://localhost:8080/",
          "height": 204
        },
        "outputId": "0a188c43-34ba-4af9-f50c-917638951cc8"
      },
      "source": [
        "df = pd.read_csv('https://raw.githubusercontent.com/worldwidekatie/Build_Week_2/master/ira_cleaned_data.csv')\n",
        "df = df.copy()\n",
        "df = df[['content', 'target']]\n",
        "df.head()"
      ],
      "execution_count": 2,
      "outputs": [
        {
          "output_type": "execute_result",
          "data": {
            "text/html": [
              "<div>\n",
              "<style scoped>\n",
              "    .dataframe tbody tr th:only-of-type {\n",
              "        vertical-align: middle;\n",
              "    }\n",
              "\n",
              "    .dataframe tbody tr th {\n",
              "        vertical-align: top;\n",
              "    }\n",
              "\n",
              "    .dataframe thead th {\n",
              "        text-align: right;\n",
              "    }\n",
              "</style>\n",
              "<table border=\"1\" class=\"dataframe\">\n",
              "  <thead>\n",
              "    <tr style=\"text-align: right;\">\n",
              "      <th></th>\n",
              "      <th>content</th>\n",
              "      <th>target</th>\n",
              "    </tr>\n",
              "  </thead>\n",
              "  <tbody>\n",
              "    <tr>\n",
              "      <th>0</th>\n",
              "      <td>#adee RT davis1988will: Congratulations for Ma...</td>\n",
              "      <td>1.0</td>\n",
              "    </tr>\n",
              "    <tr>\n",
              "      <th>1</th>\n",
              "      <td>RT SSOL getting attention. It's penny play day...</td>\n",
              "      <td>1.0</td>\n",
              "    </tr>\n",
              "    <tr>\n",
              "      <th>2</th>\n",
              "      <td>#laup SHOCK VIDEO : Antifa Thugs Break a Latin...</td>\n",
              "      <td>1.0</td>\n",
              "    </tr>\n",
              "    <tr>\n",
              "      <th>3</th>\n",
              "      <td>PROOF Melania Has Done FAR MORE for Disaster R...</td>\n",
              "      <td>1.0</td>\n",
              "    </tr>\n",
              "    <tr>\n",
              "      <th>4</th>\n",
              "      <td>An USC professor, Raphael Bostic, named first ...</td>\n",
              "      <td>1.0</td>\n",
              "    </tr>\n",
              "  </tbody>\n",
              "</table>\n",
              "</div>"
            ],
            "text/plain": [
              "                                             content  target\n",
              "0  #adee RT davis1988will: Congratulations for Ma...     1.0\n",
              "1  RT SSOL getting attention. It's penny play day...     1.0\n",
              "2  #laup SHOCK VIDEO : Antifa Thugs Break a Latin...     1.0\n",
              "3  PROOF Melania Has Done FAR MORE for Disaster R...     1.0\n",
              "4  An USC professor, Raphael Bostic, named first ...     1.0"
            ]
          },
          "metadata": {
            "tags": []
          },
          "execution_count": 2
        }
      ]
    },
    {
      "cell_type": "markdown",
      "metadata": {
        "id": "rMBUx-pa3XKb",
        "colab_type": "text"
      },
      "source": [
        "I'm estimating with a very high estimate that .00005% of tweets are IRA tweets. It's probably less than that.\n",
        "\n",
        "My sample has 5% IRA tweets, so it's a bit oversampled."
      ]
    },
    {
      "cell_type": "code",
      "metadata": {
        "id": "rGUtyYjP3YOu",
        "colab_type": "code",
        "colab": {
          "base_uri": "https://localhost:8080/",
          "height": 68
        },
        "outputId": "a02260c2-8500-4059-bbd8-221eb45750cd"
      },
      "source": [
        "df.target.value_counts(normalize=True)"
      ],
      "execution_count": 3,
      "outputs": [
        {
          "output_type": "execute_result",
          "data": {
            "text/plain": [
              "0.0    0.947465\n",
              "1.0    0.052535\n",
              "Name: target, dtype: float64"
            ]
          },
          "metadata": {
            "tags": []
          },
          "execution_count": 3
        }
      ]
    },
    {
      "cell_type": "code",
      "metadata": {
        "id": "JcvtVZlv3YhC",
        "colab_type": "code",
        "colab": {
          "base_uri": "https://localhost:8080/",
          "height": 34
        },
        "outputId": "7c6b83ba-90d3-4a28-9927-76f51cd9e9e4"
      },
      "source": [
        "train, val = train_test_split(df, random_state=42)\n",
        "print(train.shape, val.shape)"
      ],
      "execution_count": 4,
      "outputs": [
        {
          "output_type": "stream",
          "text": [
            "(151984, 2) (50662, 2)\n"
          ],
          "name": "stdout"
        }
      ]
    },
    {
      "cell_type": "code",
      "metadata": {
        "id": "LIIN9eCG3Ys6",
        "colab_type": "code",
        "colab": {
          "base_uri": "https://localhost:8080/",
          "height": 34
        },
        "outputId": "f8335a4a-afde-4687-99d6-4b93b6a898f4"
      },
      "source": [
        "train, test = train_test_split(train, random_state=42)\n",
        "print(train.shape, test.shape)"
      ],
      "execution_count": 5,
      "outputs": [
        {
          "output_type": "stream",
          "text": [
            "(113988, 2) (37996, 2)\n"
          ],
          "name": "stdout"
        }
      ]
    },
    {
      "cell_type": "code",
      "metadata": {
        "id": "7sxy0M2c3gfy",
        "colab_type": "code",
        "colab": {}
      },
      "source": [
        "target = 'target'\n",
        "features = 'content'\n",
        "\n",
        "X_train = train[features]\n",
        "y_train = train[target]\n",
        "X_val = val[features]\n",
        "y_val = val[target]\n",
        "X_test = test[features]\n",
        "y_test = test[target]"
      ],
      "execution_count": 0,
      "outputs": []
    },
    {
      "cell_type": "markdown",
      "metadata": {
        "id": "TlIxe04n3ro6",
        "colab_type": "text"
      },
      "source": [
        "#The pipeline below is the highest recall I could get 88.9%! Woot!"
      ]
    },
    {
      "cell_type": "code",
      "metadata": {
        "id": "-VSDva-z3qvO",
        "colab_type": "code",
        "colab": {
          "base_uri": "https://localhost:8080/",
          "height": 122
        },
        "outputId": "2fb27700-11f4-4253-ca90-bca769c0a0fe"
      },
      "source": [
        "pipeline = make_pipeline(\n",
        "    TfidfVectorizer(),\n",
        "    SelectPercentile(f_classif, percentile=10),\n",
        "    PassiveAggressiveClassifier(max_iter=60)\n",
        ")\n",
        "param_distributions = { \n",
        "    #'selectpercentile__percentile':[5,10,30,40,60,90],\n",
        "    'passiveaggressiveclassifier__class_weight':[{1:0.52808406, 0:19.40184758}, \n",
        "                                                 {1:0.52808406, 0:9.40184758},\n",
        "                                                 'balanced', None],\n",
        "    #'passiveaggressiveclassifier__max_iter':[10,20,30,40,50,60,70,100,200,500,None]\n",
        "}\n",
        "\n",
        "\n",
        "search = RandomizedSearchCV(\n",
        "    pipeline, \n",
        "    param_distributions=param_distributions, \n",
        "    n_iter=10, #Changed from 10\n",
        "    cv=5, #Changed from 5\n",
        "    scoring='recall', \n",
        "    verbose=1, \n",
        "    return_train_score=True\n",
        ")\n",
        "\n",
        "search.fit(X_train, y_train);"
      ],
      "execution_count": 11,
      "outputs": [
        {
          "output_type": "stream",
          "text": [
            "/usr/local/lib/python3.6/dist-packages/sklearn/model_selection/_search.py:281: UserWarning: The total space of parameters 4 is smaller than n_iter=10. Running 4 iterations. For exhaustive searches, use GridSearchCV.\n",
            "  % (grid_size, self.n_iter, grid_size), UserWarning)\n",
            "[Parallel(n_jobs=1)]: Using backend SequentialBackend with 1 concurrent workers.\n"
          ],
          "name": "stderr"
        },
        {
          "output_type": "stream",
          "text": [
            "Fitting 5 folds for each of 4 candidates, totalling 20 fits\n"
          ],
          "name": "stdout"
        },
        {
          "output_type": "stream",
          "text": [
            "[Parallel(n_jobs=1)]: Done  20 out of  20 | elapsed:  1.1min finished\n"
          ],
          "name": "stderr"
        }
      ]
    },
    {
      "cell_type": "code",
      "metadata": {
        "id": "hytUye3b3gco",
        "colab_type": "code",
        "colab": {
          "base_uri": "https://localhost:8080/",
          "height": 85
        },
        "outputId": "c5cca537-f649-4cb4-d744-367e7acc9c73"
      },
      "source": [
        "print('Best hyperparameters', search.best_params_)\n",
        "print('Cross-validation Accuracy', -search.best_score_)\n",
        "pipeline = search.best_estimator_\n",
        "print(\"Train Accuracy:\", pipeline.score(X_train, y_train))\n",
        "print(\"Validation Accuracy:\", pipeline.score(X_val, y_val))"
      ],
      "execution_count": 12,
      "outputs": [
        {
          "output_type": "stream",
          "text": [
            "Best hyperparameters {'passiveaggressiveclassifier__class_weight': 'balanced'}\n",
            "Cross-validation Accuracy -0.8812293389272975\n",
            "Train Accuracy: 0.9838579499596449\n",
            "Validation Accuracy: 0.9724843077651889\n"
          ],
          "name": "stdout"
        }
      ]
    },
    {
      "cell_type": "code",
      "metadata": {
        "id": "rUcnSP-X3gZo",
        "colab_type": "code",
        "colab": {
          "base_uri": "https://localhost:8080/",
          "height": 51
        },
        "outputId": "0a005d96-b849-40c5-d7b0-0fe906f59e65"
      },
      "source": [
        "y_pred = pipeline.predict(X_val)\n",
        "tn, fp, fn, tp = confusion_matrix(y_val, y_pred).ravel()\n",
        "print(\"Precision:\", tp /(tp+fp))  \n",
        "print(\"Recall:\", tp/(tp+fn))"
      ],
      "execution_count": 13,
      "outputs": [
        {
          "output_type": "stream",
          "text": [
            "Precision: 0.6743853630646084\n",
            "Recall: 0.9024483550114767\n"
          ],
          "name": "stdout"
        }
      ]
    },
    {
      "cell_type": "markdown",
      "metadata": {
        "id": "qK69gNgr4He4",
        "colab_type": "text"
      },
      "source": [
        "# Beginning to work on feature importances and explainability but still have a very long way to go"
      ]
    },
    {
      "cell_type": "code",
      "metadata": {
        "id": "2X5UyGzv3gWh",
        "colab_type": "code",
        "colab": {
          "base_uri": "https://localhost:8080/",
          "height": 884
        },
        "outputId": "e87148aa-d09d-4de2-f6e2-b528a6254230"
      },
      "source": [
        "vectorizer = pipeline.named_steps['tfidfvectorizer']\n",
        "features = pd.Series(vectorizer.vocabulary_)\n",
        "features.head(50)"
      ],
      "execution_count": 10,
      "outputs": [
        {
          "output_type": "execute_result",
          "data": {
            "text/plain": [
              "disappointed      30277\n",
              "with             111164\n",
              "the              100901\n",
              "tt               104763\n",
              "today            103116\n",
              "ruined            87923\n",
              "by                19133\n",
              "hurricane         47743\n",
              "headwind          45239\n",
              "doing             31172\n",
              "make              64417\n",
              "up               106858\n",
              "homework          46808\n",
              "missing           68593\n",
              "school            89848\n",
              "all                8157\n",
              "time             102544\n",
              "for               38835\n",
              "acting             6334\n",
              "is                50520\n",
              "getting           41331\n",
              "little            61689\n",
              "annoying           9981\n",
              "homeschooling     46800\n",
              "would            111789\n",
              "be                13854\n",
              "so                94360\n",
              "much              70857\n",
              "easier            32989\n",
              "ouvindo           76912\n",
              "guns              43681\n",
              "roses             87473\n",
              "november          74565\n",
              "rain              83810\n",
              "new               73017\n",
              "proposal          82033\n",
              "takes             99213\n",
              "care              20075\n",
              "of                75369\n",
              "border            16972\n",
              "wall             109233\n",
              "funding           39944\n",
              "punishing         82502\n",
              "sanctuary         88962\n",
              "cities            23081\n",
              "https             47443\n",
              "co                23750\n",
              "twtjgukpnq       105676\n",
              "rlfd4kt7bw        86756\n",
              "stevesplace       96687\n",
              "dtype: int64"
            ]
          },
          "metadata": {
            "tags": []
          },
          "execution_count": 10
        }
      ]
    },
    {
      "cell_type": "code",
      "metadata": {
        "id": "m5UmeJsl3gTQ",
        "colab_type": "code",
        "colab": {}
      },
      "source": [
        ""
      ],
      "execution_count": 0,
      "outputs": []
    }
  ]
}